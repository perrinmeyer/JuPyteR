{
 "cells": [
  {
   "cell_type": "markdown",
   "metadata": {},
   "source": [
    "# Demystifing Linear Time Invarient Digital Filtering\n",
    "<img src=\"LTI.png\">\n"
   ]
  },
  {
   "cell_type": "markdown",
   "metadata": {},
   "source": [
    "<img src=\"IIR.png\">"
   ]
  },
  {
   "cell_type": "code",
   "execution_count": 1,
   "metadata": {},
   "outputs": [
    {
     "data": {
      "text/plain": [
       "1000-element Vector{Float64}:\n",
       " 0.051904304714609495\n",
       " 0.645531603556722\n",
       " 0.7722139223073348\n",
       " 0.8580916889855237\n",
       " 0.006593560443433288\n",
       " 0.20586457218697363\n",
       " 0.5769556763121546\n",
       " 0.4191876161211052\n",
       " 0.6049590945607033\n",
       " 0.8431535547546307\n",
       " 0.343759845867323\n",
       " 0.7442137931350343\n",
       " 0.579702867688922\n",
       " ⋮\n",
       " 0.2565383013015148\n",
       " 0.54648694301708\n",
       " 0.06699522039658001\n",
       " 0.014428074342331731\n",
       " 0.06754466703694306\n",
       " 0.8116716511593105\n",
       " 0.863425719389822\n",
       " 0.5288481964194749\n",
       " 0.5759420392999066\n",
       " 0.024001846449607678\n",
       " 0.8125163422015766\n",
       " 0.8678722495850966"
      ]
     },
     "execution_count": 1,
     "metadata": {},
     "output_type": "execute_result"
    }
   ],
   "source": [
    "n = 1000\n",
    "x = rand(n)\n"
   ]
  },
  {
   "cell_type": "code",
   "execution_count": null,
   "metadata": {},
   "outputs": [],
   "source": []
  }
 ],
 "metadata": {
  "kernelspec": {
   "display_name": "Julia 1.6.0",
   "language": "julia",
   "name": "julia-1.6"
  },
  "language_info": {
   "file_extension": ".jl",
   "mimetype": "application/julia",
   "name": "julia",
   "version": "1.6.0"
  }
 },
 "nbformat": 4,
 "nbformat_minor": 4
}
