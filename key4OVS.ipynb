{
 "cells": [
  {
   "cell_type": "markdown",
   "metadata": {},
   "source": [
    "# In this notebook, we implement Overlap-Save Block FFT Convolution Filtering\n",
    "## Block FFT based processing is important, since it allows us to implement digital filters in \"real time\" (i.e. in a plugin for a DAW or max/MSP)\n",
    "## We also use our truncated IIR filter example from the previous notebook, showing that its possible to implment IIR filters using FFT based block convolution, something that is not widely appreciated. \n",
    "### FFT based block convolution algorithms are a perfect match for the numerical processing on GPU's and SIMD vector units in modern CPU's "
   ]
  },
  {
   "cell_type": "code",
   "execution_count": 32,
   "metadata": {},
   "outputs": [
    {
     "data": {
      "text/html": [
       "<style>.container { width:100% !important; }</style>"
      ]
     },
     "metadata": {},
     "output_type": "display_data"
    }
   ],
   "source": [
    "include(\"simplot.jl\")\n",
    "using PyPlot\n",
    "using DSP \n",
    "using FFTW \n",
    "using WAV \n",
    "display(\"text/html\", \"<style>.container { width:100% !important; }</style>\")"
   ]
  },
  {
   "cell_type": "code",
   "execution_count": 33,
   "metadata": {},
   "outputs": [
    {
     "data": {
      "text/plain": [
       "cp10hH (generic function with 1 method)"
      ]
     },
     "execution_count": 33,
     "metadata": {},
     "output_type": "execute_result"
    }
   ],
   "source": [
    "function cp10hH(centerHz,octave3dB,gaindB,f_samp,P)\n",
    "    \n",
    "    f_nyq = f_samp / 2;\n",
    "    T = 1 ./ f_samp;\n",
    "\n",
    "    if gaindB >= 0\n",
    "        boostcutflag = 1\n",
    "    else\n",
    "        boostcutflag = 0\n",
    "    end\n",
    "    \n",
    "    gaindB = abs(gaindB) \n",
    "\n",
    "    ## % Pf is prewarped frequency (from Matlab \"doc bilinear\")\n",
    "    f_p = centerHz;\n",
    "    Pf = (2 .* pi .* f_p) / ( tan(pi .* (f_p / f_samp)));\n",
    "    G = 10^(gaindB / 20);\n",
    "    Q = 1.43 / octave3dB;\n",
    "\n",
    "    W = 2 * pi * centerHz;\n",
    "\n",
    "    bzmath = zeros(3,1)\n",
    "    azmath = zeros(3,1) \n",
    "\n",
    "    if boostcutflag == 0\n",
    "        ## CUT equation\n",
    "        ## from Mathematica \n",
    "        bzmath[1] = Pf.^2 .* Q .+ Pf .* W .+ Q .* W.^2;\n",
    "        bzmath[2] = -2 .* Pf.^2 .* Q .+ 2 .* Q .* W.^2;\n",
    "        bzmath[3] = Pf.^2 .*Q .- Pf .* W .+ Q .* W.^2;\n",
    "\n",
    "        azmath[1] = Pf.^2 .* Q .+ G .* Pf .* W + Q .* W.^2;\n",
    "        azmath[2] =  -2 .* Pf.^2 .* Q .+ 2 .* Q .* W.^2;\n",
    "        azmath[3] =  Pf.^2 .*Q - G .* Pf .* W .+ Q .* W.^2;\n",
    "\n",
    "        bzmath = bzmath ./ azmath[1];\n",
    "        azmath = azmath ./ azmath[1];\n",
    "    end\n",
    "\n",
    "    \n",
    "    if boostcutflag == 1 \n",
    "    \n",
    "        ## BOOST equation \n",
    "        bzmath[1] = Pf.^2 .* Q .+ G .* Pf .* W .+ Q .* W.^2;\n",
    "        bzmath[2] = -2 .* Pf.^2 .* Q .+ 2 .* Q .* W.^2;\n",
    "        bzmath[3] = Pf.^2 .* Q .- G .* Pf .* W .+ Q .* W.^2;\n",
    "  \n",
    "        azmath[1] = Pf.^2 .* Q .+ Pf .* W .+ Q .* W.^2;\n",
    "        azmath[2] = -2 .* Pf.^2 .* Q .+ 2 .* Q .* W.^2;\n",
    "        azmath[3] = Pf.^2 .* Q .- Pf .* W .+ Q .* W.^2;\n",
    "\n",
    "        bzmath = bzmath ./ azmath[1];\n",
    "        azmath = azmath ./ azmath[1];\n",
    "\n",
    "    end\n",
    "\n",
    "\n",
    "    b0 = bzmath[1]\n",
    "    b1 = bzmath[2]\n",
    "    b2 = bzmath[3]\n",
    "\n",
    "    a0 = azmath[1];\n",
    "    a1 = azmath[2];\n",
    "    a2 = azmath[3];\n",
    "\n",
    "    b = bzmath;\n",
    "    a = azmath;\n",
    "\n",
    "    ## calculationg H(e^{j w}) (Fourier transform) \n",
    "    n = 0:(P-1);\n",
    "    n2 = 0:(P/2);\n",
    "    f2 = (f_samp .* n2) ./ P\n",
    "    H2 = zeros(div(P,2) + 1,1)\n",
    "\n",
    "    z = exp.(im .* 2 .* pi .* (n ./ P));\n",
    "    Htop  = b0 .+ b1 .* z.^(-1) .+ b2 .* z.^(-2);\n",
    "    Hbot = 1 .+ a1 .* z.^(-1) .+ a2 .* z.^(-2);\n",
    "    H = Htop ./ Hbot;\n",
    "\n",
    "    H2 = H[1:div(P,2)+1]\n",
    "\n",
    "    B = b2/a2;\n",
    "    c1 = b1 - ((b2/a2)*a1);\n",
    "    c0 = b0 - (b2/a2);\n",
    "\n",
    "    alpha = (-a1 + sqrt(complex(a1^2 - 4 * a2)))/2;\n",
    "    beta = (-a1 - sqrt(complex(a1^2 - 4 * a2)))/2;\n",
    "\n",
    "    A1 = ((c1 / alpha) + c0) / ( 1 - (beta / alpha));\n",
    "    \n",
    "    A2 = ( (c1 / beta) + c0) / ( 1 - (alpha / beta));\n",
    "\n",
    "    h = zeros(P,1)\n",
    "\n",
    "\n",
    "    h[n[1]+1] = B .+ A1 .+ A2;\n",
    "    h[ n[2:end] .+ 1,1] = A1 .* alpha.^( n[2:end]) .+ A2 .* beta.^(n[2:end]);\n",
    "\n",
    "    ## note equivalence of h versus hifft f\n",
    "    ##maximum(  abs.(h - real(ifft(H)) ))\n",
    "\n",
    "    return f2,H2,b,a,h,H\n",
    "    \n",
    "end\n",
    "\n"
   ]
  },
  {
   "cell_type": "code",
   "execution_count": 34,
   "metadata": {},
   "outputs": [],
   "source": [
    "f2,H2,b,a,h,H= cp10hH(2000,0.5,-28,48e3,2^12);"
   ]
  },
  {
   "cell_type": "code",
   "execution_count": 35,
   "metadata": {},
   "outputs": [],
   "source": [
    "f_samp = 48e3\n",
    "dt = 1 / f_samp\n",
    "N = 50000\n",
    "n = collect(0:(N-1))\n",
    "x1 = sin.(2 * pi * 100 * n ./ f_samp)\n",
    "x2 = sin.(2 * pi * 2000 * n ./ f_samp)\n",
    "x = x1 + x2;\n"
   ]
  },
  {
   "cell_type": "code",
   "execution_count": 36,
   "metadata": {},
   "outputs": [],
   "source": [
    "wavplay(x,f_samp)"
   ]
  },
  {
   "cell_type": "code",
   "execution_count": 37,
   "metadata": {},
   "outputs": [],
   "source": [
    "y = filt(vec(b),vec(a),x);"
   ]
  },
  {
   "cell_type": "code",
   "execution_count": 38,
   "metadata": {},
   "outputs": [],
   "source": [
    "wavplay(y,f_samp)"
   ]
  },
  {
   "cell_type": "code",
   "execution_count": 39,
   "metadata": {},
   "outputs": [
    {
     "data": {
      "text/plain": [
       "7.094568529887783e-5"
      ]
     },
     "execution_count": 39,
     "metadata": {},
     "output_type": "execute_result"
    }
   ],
   "source": [
    "h[200]"
   ]
  },
  {
   "cell_type": "code",
   "execution_count": 40,
   "metadata": {},
   "outputs": [
    {
     "data": {
      "text/plain": [
       "1.6295586327378027e-7"
      ]
     },
     "execution_count": 40,
     "metadata": {},
     "output_type": "execute_result"
    }
   ],
   "source": [
    "h[400]"
   ]
  },
  {
   "cell_type": "code",
   "execution_count": 41,
   "metadata": {},
   "outputs": [
    {
     "data": {
      "text/plain": [
       "9.524436294230895e-16"
      ]
     },
     "execution_count": 41,
     "metadata": {},
     "output_type": "execute_result"
    }
   ],
   "source": [
    "h[1024]"
   ]
  },
  {
   "cell_type": "code",
   "execution_count": 42,
   "metadata": {},
   "outputs": [],
   "source": [
    "htrunc = h[1:1024];"
   ]
  },
  {
   "cell_type": "code",
   "execution_count": 43,
   "metadata": {},
   "outputs": [],
   "source": [
    "a = zeros(length(htrunc))\n",
    "a[1] = 1.0\n",
    "\n",
    "ytrunc = filt(vec(htrunc),a,x);"
   ]
  },
  {
   "cell_type": "code",
   "execution_count": 44,
   "metadata": {},
   "outputs": [
    {
     "data": {
      "text/plain": [
       "50000"
      ]
     },
     "execution_count": 44,
     "metadata": {},
     "output_type": "execute_result"
    }
   ],
   "source": [
    "length(y)"
   ]
  },
  {
   "cell_type": "code",
   "execution_count": 45,
   "metadata": {},
   "outputs": [
    {
     "data": {
      "text/plain": [
       "50000"
      ]
     },
     "execution_count": 45,
     "metadata": {},
     "output_type": "execute_result"
    }
   ],
   "source": [
    "length(ytrunc)"
   ]
  },
  {
   "cell_type": "markdown",
   "metadata": {},
   "source": [
    "# ALL useful IIR filters (i.e. stable...) have impulse response h that decays to zero\n",
    "# so ALL IIR filters can be converted to FIR filters\n",
    "# AND THIS MEANS we CAN USE FFT based convolution to implement ANY LTI filter we can dream up!!!!\n",
    "## But we have Julia, so lets check out if this crazy talk is actually true!"
   ]
  },
  {
   "cell_type": "markdown",
   "metadata": {},
   "source": [
    "<img src=\"FFTpseudo.png\">"
   ]
  },
  {
   "cell_type": "code",
   "execution_count": 46,
   "metadata": {},
   "outputs": [
    {
     "data": {
      "text/plain": [
       "naive_convolution (generic function with 1 method)"
      ]
     },
     "execution_count": 46,
     "metadata": {},
     "output_type": "execute_result"
    }
   ],
   "source": [
    "function naive_convolution(h,x)\n",
    "\n",
    "    L = length(x)\n",
    "    P = length(h)\n",
    "\n",
    "    y = zeros(L+P-1)\n",
    "    xp = zeros(L+P-1)\n",
    "    hp = zeros(L+P-1)\n",
    "    \n",
    "    xp[1:L] = x\n",
    "    xp[L+1:L+P-1] .= 0\n",
    "\n",
    "    hp[1:P] = h\n",
    "    hp[P+1:L+P-1] .= 0\n",
    "\n",
    "    X = fft(xp)\n",
    "    H = fft(hp)\n",
    "    Y = X .* H\n",
    "    y = ifft(Y)\n",
    "\n",
    "    return(real(y))\n",
    "    \n",
    "\n",
    "end\n"
   ]
  },
  {
   "cell_type": "code",
   "execution_count": 47,
   "metadata": {},
   "outputs": [],
   "source": [
    "yfft = naive_convolution(vec(htrunc),x);"
   ]
  },
  {
   "cell_type": "code",
   "execution_count": 48,
   "metadata": {},
   "outputs": [
    {
     "data": {
      "image/png": "[encoded data removed]",
      "text/plain": [
       "Figure(PyObject <Figure size 1400x600 with 1 Axes>)"
      ]
     },
     "metadata": {},
     "output_type": "display_data"
    }
   ],
   "source": [
    "## a sanity check -- our naive convolution algorithm matches the build in Julia filter algorithm. Same as previous notebook. \n",
    "\n",
    "fig = figure(\"Title of Window\",figsize=(14,6))\n",
    "plot(y[200:250],\"-r\")\n",
    "plot(yfft[200:250],\"xb\");"
   ]
  },
  {
   "cell_type": "markdown",
   "metadata": {},
   "source": [
    "# IIR filters and FIR filters are the same, numerically. This is more important than you might realize.  \n",
    "\n",
    "# I'm sure some of you have thought of a gotcha.  This only works \"offline\", not in \"real time\" like \"real\" \"analog\" IIR filters...\n",
    "\n",
    "# OVERLAP-SAVE FFT Based Block Convolution!  \n",
    "### The notes below are taking directly from the \"industry standard textbook) \"Discrete Time Signal Processing\" by Oppenheim and Schafer"
   ]
  },
  {
   "cell_type": "markdown",
   "metadata": {},
   "source": [
    "<img src=\"os1.png\">"
   ]
  },
  {
   "cell_type": "markdown",
   "metadata": {},
   "source": [
    "<img src=\"os2.png\">"
   ]
  },
  {
   "cell_type": "markdown",
   "metadata": {},
   "source": [
    "<img src=\"os3.png\">"
   ]
  },
  {
   "cell_type": "markdown",
   "metadata": {},
   "source": [
    "# Real-Time LTI Filtering (FIR and IIR) with FFT based Block Convolution.  Welcome to the 21st Century!!! "
   ]
  },
  {
   "cell_type": "markdown",
   "metadata": {},
   "source": [
    "# And there are no audio artifacts from a well done block convolution code. Just like Direct Form IIR is numerically equivalent to FFT Conolution..."
   ]
  },
  {
   "cell_type": "code",
   "execution_count": 49,
   "metadata": {},
   "outputs": [
    {
     "data": {
      "text/plain": [
       "192"
      ]
     },
     "execution_count": 49,
     "metadata": {},
     "output_type": "execute_result"
    }
   ],
   "source": [
    "# Julia Overlap-save algorithm setup \n",
    "y_OVS = zeros(N) \n",
    "P = length(htrunc)\n",
    "# our \"chunk length\" for block convolution is 256\n",
    "L = P + 256\n",
    "chunklength = L - P + 1\n",
    "chunk = zeros(chunklength)\n",
    "\n",
    "xr = zeros(L) \n",
    "\n",
    "yrp = zeros(L+P-1)\n",
    "yr = zeros(L+P-1)\n",
    "R = Int(floor(N / chunklength)) - 2 "
   ]
  },
  {
   "cell_type": "markdown",
   "metadata": {},
   "source": [
    "## This is the main overlap save block convolution algorithm. \n",
    "#### Its conceptually simple, but the bookeeping is tricky \n",
    "#### (This is a very naive Julia algorithm, there are many ways to improve the numerical speed)"
   ]
  },
  {
   "cell_type": "code",
   "execution_count": 50,
   "metadata": {},
   "outputs": [],
   "source": [
    "# this is the Block (chunk) FFT based convolution algorithm. \n",
    "# for every r, it takes a chunk of input samples, uses zero-padding FFT for the processing\n",
    "# (the same naive fft convolution function from before, but now on smaller blocks or chunks)\n",
    "for r=4:R\n",
    "    # pick out a \"chunk from the input stream x[n]\"\n",
    "    for n=1:(L)\n",
    "        xr[n] = x[n + r * (L - P + 1) - P + 1]\n",
    "    end\n",
    "    # do the FFT (block/chunk) convolution\n",
    "    global yrp = naive_convolution(xr,htrunc)\n",
    "    # pick out the valid samples \n",
    "    for n=(P):(L)\n",
    "        global yr[n] = yrp[n]\n",
    "    end\n",
    "    global chunk = yr[P:L]\n",
    "    LL = length(chunk)\n",
    "    # add the valid samples to the output (filtered) stream y_OVS[]\n",
    "    global y_OVS[1 + ((r-1) * LL):LL + ((r-1) * LL)] = chunk\n",
    "end\n",
    "\n"
   ]
  },
  {
   "cell_type": "code",
   "execution_count": 51,
   "metadata": {},
   "outputs": [
    {
     "data": {
      "text/plain": [
       "1.6653345369377348e-15"
      ]
     },
     "execution_count": 51,
     "metadata": {},
     "output_type": "execute_result"
    }
   ],
   "source": [
    "# our naive block convolution algorithm does not handle startup yet, so pick out valid \"middle\" \n",
    "y_OVS_trunc = y_OVS[772:end-1000]\n",
    "\n",
    "# pick out the correspoding values from our earlier yfft convolution \n",
    "yfft_trunc = yfft[1029:1029 + (length(y_OVS_trunc) -1)]\n",
    "\n",
    "# compare\n",
    "\n",
    "maximum(y_OVS_trunc - yfft_trunc)\n",
    "\n",
    "\n"
   ]
  },
  {
   "cell_type": "markdown",
   "metadata": {},
   "source": [
    "## this result (1.6e-15) means that our block convolution algorithm is numerically identical to  single FFT convolution algorithm (as well as the direct filter algorithm)\n",
    "## this means its \"perfect\", there are no audible artifacts for doing the processing in blocks. \n",
    "### we can intuitively prove this by listening to both the block convolution filter, and the single convolution filter.  They both sound the same, and \n",
    "### there are no audible artifacts from the block processing. "
   ]
  },
  {
   "cell_type": "code",
   "execution_count": 52,
   "metadata": {},
   "outputs": [],
   "source": [
    "wavplay(y_OVS_trunc,f_samp)"
   ]
  },
  {
   "cell_type": "code",
   "execution_count": 53,
   "metadata": {},
   "outputs": [],
   "source": [
    "wavplay(yfft_trunc,f_samp)"
   ]
  },
  {
   "cell_type": "code",
   "execution_count": null,
   "metadata": {},
   "outputs": [],
   "source": []
  }
 ],
 "metadata": {
  "kernelspec": {
   "display_name": "Julia 1.6.0",
   "language": "julia",
   "name": "julia-1.6"
  },
  "language_info": {
   "file_extension": ".jl",
   "mimetype": "application/julia",
   "name": "julia",
   "version": "1.6.0"
  }
 },
 "nbformat": 4,
 "nbformat_minor": 4
}
