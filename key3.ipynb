{
 "cells": [
  {
   "cell_type": "markdown",
   "metadata": {},
   "source": [
    "# INFINITY (is overrated) \n",
    "\n",
    "## IIR  Infinite Impulse Response Filters\n",
    "\n",
    "### Stabilty, Causality, Feedback, Oh My"
   ]
  },
  {
   "cell_type": "markdown",
   "metadata": {},
   "source": [
    "## Discrete Time (Digital) IIR Filters are based on \"Analog\" Circuits, I.e. Transistors, Capacitors, Inductors.  Developed for Radio, Early Record Recording Playback.  Analog Console EQ, \"Tone Controls\". "
   ]
  },
  {
   "cell_type": "markdown",
   "metadata": {},
   "source": [
    "<img src=\"LTI.png\">"
   ]
  },
  {
   "cell_type": "markdown",
   "metadata": {},
   "source": [
    "<img src=\"IIR.png\">"
   ]
  },
  {
   "cell_type": "markdown",
   "metadata": {},
   "source": [
    "# Now b AND a coefficients.  Filter can incorporate past values of Y (not just X).  Numerator and Denomonator. But if Denominator is zero, thats BAD... so IIR filters can be unstable (think audio feedback.  If this was a real in person conference, and I was using a reall microphone, you would hear feedback if I walked too close to a speaker.  This is same phenomena"
   ]
  },
  {
   "cell_type": "markdown",
   "metadata": {},
   "source": [
    "<img src=\"lp.png\">\n",
    "Analog Lowpass (from Wikipedia)"
   ]
  },
  {
   "cell_type": "markdown",
   "metadata": {},
   "source": [
    "# This Circuit can be mathematically modelled as a Differential Equation\n",
    "\n",
    "# Then using the Laplace Transform, It can be transformed into a Rational Polynomial (S domain(. "
   ]
  },
  {
   "cell_type": "markdown",
   "metadata": {},
   "source": [
    "# The Z transform is the discrete time version of the Laplace Transform. Both are closely related to the Fourier Transform. "
   ]
  },
  {
   "cell_type": "markdown",
   "metadata": {},
   "source": [
    "# Lots of Algebra... "
   ]
  },
  {
   "cell_type": "code",
   "execution_count": null,
   "metadata": {},
   "outputs": [],
   "source": []
  }
 ],
 "metadata": {
  "kernelspec": {
   "display_name": "Julia 1.6.0",
   "language": "julia",
   "name": "julia-1.6"
  },
  "language_info": {
   "file_extension": ".jl",
   "mimetype": "application/julia",
   "name": "julia",
   "version": "1.6.0"
  }
 },
 "nbformat": 4,
 "nbformat_minor": 4
}
