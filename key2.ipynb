{
 "cells": [
  {
   "cell_type": "markdown",
   "metadata": {},
   "source": [
    "# Julia -- Modern Open Source Technical Computing System"
   ]
  },
  {
   "cell_type": "markdown",
   "metadata": {},
   "source": [
    "## (like a combination of Python, MATLAB, and LISP)"
   ]
  },
  {
   "cell_type": "markdown",
   "metadata": {},
   "source": [
    "###  <a href=\"http://julialang.org\"><tt> JuliaLang.org </tt></a>"
   ]
  },
  {
   "cell_type": "markdown",
   "metadata": {},
   "source": [
    "# Demystifying Digital Filtering\n",
    "## Linear Time Invarient "
   ]
  },
  {
   "cell_type": "markdown",
   "metadata": {},
   "source": [
    "  <img src=\"LTI.png\">"
   ]
  },
  {
   "cell_type": "markdown",
   "metadata": {},
   "source": [
    "<img src=\"IIR.png\">"
   ]
  },
  {
   "cell_type": "markdown",
   "metadata": {},
   "source": [
    "## FIR - Finite Impulse Response, only b coeff (non-recursive) "
   ]
  },
  {
   "cell_type": "code",
   "execution_count": null,
   "metadata": {},
   "outputs": [],
   "source": [
    "using PyPlot\n",
    "using DSP \n",
    "using FFTW \n"
   ]
  },
  {
   "cell_type": "code",
   "execution_count": null,
   "metadata": {},
   "outputs": [],
   "source": [
    "function naive_filter(b,x)\n",
    "    N = length(x)\n",
    "    M = length(b)\n",
    "    y = zeros(N)\n",
    "\n",
    "    for n=M:N\n",
    "        for k=0:(M-1)\n",
    "            y[n] = y[n] + (b[k+1] * x[n-k])\n",
    "        end\n",
    "    end\n",
    " \n",
    "    return y \n",
    "end\n"
   ]
  },
  {
   "cell_type": "code",
   "execution_count": null,
   "metadata": {},
   "outputs": [],
   "source": [
    "f_samp = 48e3\n",
    "dt = 1 / f_samp\n",
    "N = 5000\n",
    "n = collect(0:(N-1))\n",
    "x1 = sin.(2 * pi * 20 * n ./ f_samp)\n",
    "x2 = sin.(2 * pi * 5000 * n ./ f_samp)\n",
    "x = x1 + x2;\n"
   ]
  },
  {
   "cell_type": "code",
   "execution_count": null,
   "metadata": {},
   "outputs": [],
   "source": [
    "plot(x[1:200])"
   ]
  },
  {
   "cell_type": "markdown",
   "metadata": {},
   "source": [
    "## moving average FIR filter (lowpass!) "
   ]
  },
  {
   "cell_type": "markdown",
   "metadata": {},
   "source": [
    "# $y[n] = \\frac{x[n] + x[n-1] + x[n-2] ...}{10} $"
   ]
  },
  {
   "cell_type": "code",
   "execution_count": null,
   "metadata": {},
   "outputs": [],
   "source": [
    "b = ones(10) / 10\n",
    "a = zeros(5)\n",
    "a[1] = 1\n"
   ]
  },
  {
   "cell_type": "code",
   "execution_count": null,
   "metadata": {},
   "outputs": [],
   "source": [
    "ynf = naive_filter(b,x);"
   ]
  },
  {
   "cell_type": "code",
   "execution_count": null,
   "metadata": {},
   "outputs": [],
   "source": [
    "plot(x,\"-r\")\n",
    "plot(ynf,\"ob\")\n"
   ]
  },
  {
   "cell_type": "code",
   "execution_count": null,
   "metadata": {},
   "outputs": [],
   "source": [
    "plot(x[1:100],\"-r\")\n",
    "plot(ynf[1:100],\"ob\")"
   ]
  },
  {
   "cell_type": "code",
   "execution_count": null,
   "metadata": {},
   "outputs": [],
   "source": [
    "plot(x1[1:1000],\"-r\")\n",
    "plot(ynf[1:1000],\"-b\")"
   ]
  },
  {
   "cell_type": "markdown",
   "metadata": {},
   "source": [
    "## Lets check our work with DSP.jl (Julia DSP package)"
   ]
  },
  {
   "cell_type": "code",
   "execution_count": null,
   "metadata": {},
   "outputs": [],
   "source": [
    "y = filt(b,a,x); ## DSP.jl build in filter function "
   ]
  },
  {
   "cell_type": "code",
   "execution_count": 43,
   "metadata": {},
   "outputs": [
    {
     "data": {
      "text/plain": [
       "20×4 Matrix{Float64}:\n",
       " 0.0673405  0.0673405  0.0  0.0\n",
       " 0.0830088  0.0830088  0.0  0.0\n",
       " 0.0822167  0.0822167  0.0  0.0\n",
       " 0.0663725  0.0663725  0.0  0.0\n",
       " 0.0431053  0.0431053  0.0  0.0\n",
       " 0.0231118  0.0231118  0.0  0.0\n",
       " 0.0157357  0.0157357  0.0  0.0\n",
       " 0.0251058  0.0251058  0.0  0.0\n",
       " 0.0484297  0.0484297  0.0  0.0\n",
       " 0.0771477  0.0771477  0.0  0.0\n",
       " 0.100471   0.100471   0.0  0.0\n",
       " 0.109839   0.109839   0.0  0.0\n",
       " 0.10246    0.10246    0.0  0.0\n",
       " 0.0824635  0.0824635  0.0  0.0\n",
       " 0.059192   0.059192   0.0  0.0\n",
       " 0.0433426  0.0433426  0.0  0.0\n",
       " 0.0425445  0.0425445  0.0  0.0\n",
       " 0.0582059  0.0582059  0.0  0.0\n",
       " 0.0849321  0.0849321  0.0  0.0\n",
       " 0.112755   0.112755   0.0  0.0"
      ]
     },
     "execution_count": 43,
     "metadata": {},
     "output_type": "execute_result"
    }
   ],
   "source": [
    "CHECK = zeros(20,4)\n",
    "CHECK[:,1] = y[21:40]\n",
    "CHECK[:,2] = ynf[21:40];\n",
    "CHECK"
   ]
  },
  {
   "cell_type": "code",
   "execution_count": 44,
   "metadata": {},
   "outputs": [
    {
     "data": {
      "text/plain": [
       "20-element Vector{Float64}:\n",
       " -2.7755575615628914e-17\n",
       " -1.3877787807814457e-17\n",
       "  2.7755575615628914e-17\n",
       "  2.7755575615628914e-17\n",
       "  6.938893903907228e-18\n",
       " -4.85722573273506e-17\n",
       "  0.0\n",
       " -1.3877787807814457e-17\n",
       " -2.7755575615628914e-17\n",
       "  1.3877787807814457e-17\n",
       " -2.7755575615628914e-17\n",
       " -1.3877787807814457e-17\n",
       "  1.3877787807814457e-17\n",
       "  4.163336342344337e-17\n",
       "  4.163336342344337e-17\n",
       "  2.7755575615628914e-17\n",
       " -1.3877787807814457e-17\n",
       " -4.163336342344337e-17\n",
       "  0.0\n",
       " -5.551115123125783e-17"
      ]
     },
     "execution_count": 44,
     "metadata": {},
     "output_type": "execute_result"
    }
   ],
   "source": [
    "CHECK[:,1] - CHECK[:,2]"
   ]
  },
  {
   "cell_type": "markdown",
   "metadata": {},
   "source": [
    "# Impulse Response, Convolution, and FFT"
   ]
  },
  {
   "cell_type": "markdown",
   "metadata": {},
   "source": [
    "<img src=\"LTI_hconv.png\">"
   ]
  },
  {
   "cell_type": "markdown",
   "metadata": {},
   "source": [
    "# the impulse response h COMPLETELY specifies a LTI filter \n",
    "\n",
    "# Convolution in time-domain = multiplication in Fourier (frequency) Domain\n",
    "\n",
    "# FFT - Fast Fourier Transform.  "
   ]
  },
  {
   "cell_type": "markdown",
   "metadata": {},
   "source": [
    "<img src=\"FFTpseudo.png\">"
   ]
  },
  {
   "cell_type": "code",
   "execution_count": 45,
   "metadata": {},
   "outputs": [
    {
     "data": {
      "text/plain": [
       "naive_convolution (generic function with 1 method)"
      ]
     },
     "execution_count": 45,
     "metadata": {},
     "output_type": "execute_result"
    }
   ],
   "source": [
    "function naive_convolution(b,x)\n",
    "\n",
    "    L = length(x)\n",
    "    P = length(b)\n",
    "\n",
    "    y = zeros(L+P-1)\n",
    "    xp = zeros(L+P-1)\n",
    "    hp = zeros(L+P-1)\n",
    "    \n",
    "    xp[1:L] = x\n",
    "    xp[L+1:L+P-1] .= 0\n",
    "\n",
    "    hp[1:P] = b\n",
    "    hp[P+1:L+P-1] .= 0\n",
    "\n",
    "    X = fft(xp)\n",
    "    H = fft(hp)\n",
    "    Y = X .* H\n",
    "    y = ifft(Y)\n",
    "\n",
    "    return(real(y))\n",
    "    \n",
    "\n",
    "end\n"
   ]
  },
  {
   "cell_type": "code",
   "execution_count": 47,
   "metadata": {},
   "outputs": [],
   "source": [
    "ync = naive_convolution(b,x);"
   ]
  },
  {
   "cell_type": "markdown",
   "metadata": {},
   "source": [
    "## lets check work with julia DSP conv() function "
   ]
  },
  {
   "cell_type": "code",
   "execution_count": 48,
   "metadata": {},
   "outputs": [],
   "source": [
    "yc = conv(b,x);"
   ]
  },
  {
   "cell_type": "code",
   "execution_count": 50,
   "metadata": {},
   "outputs": [
    {
     "data": {
      "text/plain": [
       "20×4 Matrix{Float64}:\n",
       " 0.0673405  0.0673405  0.0673405  0.0673405\n",
       " 0.0830088  0.0830088  0.0830088  0.0830088\n",
       " 0.0822167  0.0822167  0.0822167  0.0822167\n",
       " 0.0663725  0.0663725  0.0663725  0.0663725\n",
       " 0.0431053  0.0431053  0.0431053  0.0431053\n",
       " 0.0231118  0.0231118  0.0231118  0.0231118\n",
       " 0.0157357  0.0157357  0.0157357  0.0157357\n",
       " 0.0251058  0.0251058  0.0251058  0.0251058\n",
       " 0.0484297  0.0484297  0.0484297  0.0484297\n",
       " 0.0771477  0.0771477  0.0771477  0.0771477\n",
       " 0.100471   0.100471   0.100471   0.100471\n",
       " 0.109839   0.109839   0.109839   0.109839\n",
       " 0.10246    0.10246    0.10246    0.10246\n",
       " 0.0824635  0.0824635  0.0824635  0.0824635\n",
       " 0.059192   0.059192   0.059192   0.059192\n",
       " 0.0433426  0.0433426  0.0433426  0.0433426\n",
       " 0.0425445  0.0425445  0.0425445  0.0425445\n",
       " 0.0582059  0.0582059  0.0582059  0.0582059\n",
       " 0.0849321  0.0849321  0.0849321  0.0849321\n",
       " 0.112755   0.112755   0.112755   0.112755"
      ]
     },
     "execution_count": 50,
     "metadata": {},
     "output_type": "execute_result"
    }
   ],
   "source": [
    "CHECK[:,3] = ync[21:40]\n",
    "CHECK[:,4] = yc[21:40]\n",
    "CHECK\n"
   ]
  },
  {
   "cell_type": "code",
   "execution_count": 51,
   "metadata": {},
   "outputs": [
    {
     "data": {
      "text/plain": [
       "20-element Vector{Float64}:\n",
       "  8.326672684688674e-17\n",
       "  3.469446951953614e-16\n",
       "  6.938893903907228e-17\n",
       " -2.914335439641036e-16\n",
       "  1.1796119636642288e-16\n",
       "  6.591949208711867e-17\n",
       "  8.326672684688674e-17\n",
       "  5.204170427930421e-17\n",
       "  6.938893903907228e-17\n",
       " -1.3877787807814457e-17\n",
       "  1.3877787807814457e-17\n",
       " -4.718447854656915e-16\n",
       "  4.163336342344337e-17\n",
       " -1.3877787807814457e-17\n",
       " -1.8041124150158794e-16\n",
       "  2.1510571102112408e-16\n",
       "  2.3592239273284576e-16\n",
       " -1.3877787807814457e-16\n",
       "  1.8041124150158794e-16\n",
       "  4.0245584642661925e-16"
      ]
     },
     "execution_count": 51,
     "metadata": {},
     "output_type": "execute_result"
    }
   ],
   "source": [
    "CHECK[:,3] - CHECK[:,4]"
   ]
  },
  {
   "cell_type": "code",
   "execution_count": 57,
   "metadata": {},
   "outputs": [
    {
     "data": {
      "text/plain": [
       "20-element Vector{Float64}:\n",
       " -321.59057013598607\n",
       " -309.1947949702182\n",
       " -323.1741950569386\n",
       " -310.7092092489805\n",
       " -318.5652166293731\n",
       " -323.61972295116163\n",
       " -321.59057013598607\n",
       " -325.67296978910457\n",
       " -323.1741950569386\n",
       " -337.15359514365895\n",
       " -337.15359514365895\n",
       " -306.52401680281383\n",
       " -327.6111700492657\n",
       " -337.15359514365895\n",
       " -314.87472809752217\n",
       " -313.3469611802531\n",
       " -312.54461671609346\n",
       " -317.15359514365895\n",
       " -314.87472809752217\n",
       " -307.90563518567984"
      ]
     },
     "execution_count": 57,
     "metadata": {},
     "output_type": "execute_result"
    }
   ],
   "source": [
    "20 .* log10.(abs.(CHECK[:,3] .- CHECK[:,4]))"
   ]
  },
  {
   "cell_type": "markdown",
   "metadata": {},
   "source": [
    "## -321 dB is ZERO in Digital Filtering...... "
   ]
  },
  {
   "cell_type": "code",
   "execution_count": null,
   "metadata": {},
   "outputs": [],
   "source": []
  }
 ],
 "metadata": {
  "kernelspec": {
   "display_name": "Julia 1.6.0",
   "language": "julia",
   "name": "julia-1.6"
  },
  "language_info": {
   "file_extension": ".jl",
   "mimetype": "application/julia",
   "name": "julia",
   "version": "1.6.0"
  }
 },
 "nbformat": 4,
 "nbformat_minor": 4
}
